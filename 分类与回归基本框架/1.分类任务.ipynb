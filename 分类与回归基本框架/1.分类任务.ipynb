{
 "cells": [
  {
   "cell_type": "code",
   "execution_count": 16,
   "outputs": [
    {
     "name": "stdout",
     "output_type": "stream",
     "text": [
      "loading data done!\n",
      "当前epoch:0 验证集损失:0.23019367613792419\n",
      "当前epoch:1 验证集损失:0.16789367280453443\n",
      "当前epoch:2 验证集损失:0.13968519426696002\n",
      "当前epoch:3 验证集损失:0.11025581549070776\n",
      "当前epoch:4 验证集损失:0.11348850785214454\n",
      "当前epoch:5 验证集损失:0.0994592545909807\n",
      "当前epoch:6 验证集损失:0.10324749231860042\n",
      "当前epoch:7 验证集损失:0.10202335448153317\n",
      "当前epoch:8 验证集损失:0.0909839156942442\n",
      "当前epoch:9 验证集损失:0.08714337632898242\n",
      "当前epoch:10 验证集损失:0.10316480679679663\n",
      "当前epoch:11 验证集损失:0.08489993658084423\n",
      "当前epoch:12 验证集损失:0.09310972396200523\n",
      "当前epoch:13 验证集损失:0.0867012240136508\n",
      "当前epoch:14 验证集损失:0.08868460178859532\n",
      "当前epoch:15 验证集损失:0.08714220064021647\n",
      "当前epoch:16 验证集损失:0.07921220764322207\n",
      "当前epoch:17 验证集损失:0.08017392713977024\n",
      "当前epoch:18 验证集损失:0.0870297177521512\n",
      "当前epoch:19 验证集损失:0.07887627218859852\n"
     ]
    }
   ],
   "source": [
    "from torch import nn  # 导入神经网络模块\n",
    "import torch\n",
    "import torchvision\n",
    "import torchvision.transforms as transforms\n",
    "from torch.utils.data import DataLoader\n",
    "import torch.nn.functional as F\n",
    "import numpy as np\n",
    "\n",
    "\n",
    "class Mnist_NN(nn.Module):\n",
    "    def __init__(self):\n",
    "        \"\"\"\n",
    "        准备网络需要的原材料\n",
    "        \"\"\"\n",
    "        super().__init__()\n",
    "        self.hidden1 = nn.Linear(784, 128)\n",
    "        self.hidden2 = nn.Linear(128, 256)\n",
    "        # self.hidden3 = nn.Linear(256,512)\n",
    "        self.out = nn.Linear(256, 10)\n",
    "        self.dropout = nn.Dropout(0.3)\n",
    "\n",
    "    def forward(self, x):\n",
    "        \"\"\"\n",
    "        构造前向传播网络, 方向传播的网络由框架自动生成\n",
    "        \"\"\"\n",
    "        x = x.view(-1, 784)\n",
    "\n",
    "        x = F.relu(self.hidden1(x))\n",
    "        x = self.dropout(x)\n",
    "\n",
    "        x = F.relu(self.hidden2(x))\n",
    "        x = self.dropout(x)\n",
    "\n",
    "        x = self.out(x)\n",
    "\n",
    "        return x\n",
    "\n",
    "\n",
    "def get_data(trainset, validset, bs=64):\n",
    "    return(\n",
    "        DataLoader(trainset, batch_size=bs, shuffle=True),\n",
    "        DataLoader(validset, batch_size=bs)\n",
    "    )\n",
    "\n",
    "\n",
    "def fit(epochs, model, loss_func, opt, train_dl, vaild_dl):\n",
    "    for epoch in range(epochs):\n",
    "        model.train()  # 更新权重和参数\n",
    "        for x_train, y_train in train_dl:\n",
    "            loss_batch(model, loss_func, x_train, y_train, opt)\n",
    "\n",
    "        model.eval()\n",
    "        with torch.no_grad():\n",
    "            losses, nums = zip(\n",
    "                *[loss_batch(model, loss_func, x, y) for x, y in vaild_dl]\n",
    "            )\n",
    "        val_loss = np.sum(np.multiply(losses, nums)) / np.sum(nums)\n",
    "        print(\"当前epoch:\" + str(epoch), \"验证集损失:\" + str(val_loss))\n",
    "\n",
    "\n",
    "def loss_batch(model, loss_func, x_train, y_train, opt=None):\n",
    "    # print(x_train.dtype(), y_train.dtype())\n",
    "    loss = loss_func(model(x_train), y_train)\n",
    "    if opt is not None:\n",
    "        loss.backward()  # 传播方向\n",
    "        opt.step()  # 更新参数\n",
    "        opt.zero_grad()  # 清空上一次更新的梯度为0\n",
    "\n",
    "    return loss.item(), len(x_train)\n",
    "\n",
    "\n",
    "\n",
    "\n",
    "\n",
    "if __name__ == \"__main__\":\n",
    "    # 定义数据预处理， 将多个变换组合成一个变化序列\n",
    "    transform = transforms.Compose(\n",
    "        [transforms.ToTensor(),\n",
    "         transforms.Normalize((0.5,), (0.5,))])\n",
    "    # 加载训练数据集\n",
    "    train_set = torchvision.datasets.MNIST(root='./data',\n",
    "                                           train=True,\n",
    "                                           download=True,\n",
    "                                           transform=transform)\n",
    "\n",
    "    # 加载验证数据集\n",
    "    valid_set = torchvision.datasets.MNIST(root='./data',\n",
    "                                           train=False,\n",
    "                                           download=True,\n",
    "                                           transform=transform)\n",
    "    train_dl, valid_dl = get_data(train_set, valid_set)\n",
    "    print(\"loading data done!\")\n",
    "\n",
    "    model = Mnist_NN()\n",
    "    opt = torch.optim.SGD(model.parameters(), lr=0.001)\n",
    "\n",
    "    fit(2, model, F.cross_entropy, opt, train_dl, valid_dl)"
   ],
   "metadata": {
    "collapsed": false
   }
  },
  {
   "cell_type": "markdown",
   "source": [
    "## 计算训练模型的准确率"
   ],
   "metadata": {
    "collapsed": false
   }
  },
  {
   "cell_type": "code",
   "execution_count": 17,
   "outputs": [
    {
     "name": "stdout",
     "output_type": "stream",
     "text": [
      "torch.return_types.max(\n",
      "values=tensor([10.4029, 11.1362,  8.1540,  8.6337,  9.0510, 11.3364,  8.7575,  5.7518,\n",
      "         8.5096,  9.1773, 13.7991,  8.3378, 11.0095, 11.6109, 12.4788,  4.7635,\n",
      "         7.8654, 10.0419,  4.2958, 11.1802,  8.3812,  9.7368,  8.3109, 16.8603,\n",
      "         9.6300, 16.4471, 11.0485, 11.5176, 15.8290,  9.0066, 13.1749,  5.1096,\n",
      "        14.0867,  4.2549, 12.5262,  8.5653,  8.2061, 11.1133,  5.5055, 10.2003,\n",
      "         8.3920,  9.1028, 11.1305,  2.4319,  8.6716, 10.0483,  6.8108,  7.3633,\n",
      "        12.0932,  9.8844, 10.3851, 11.0828,  9.6660,  6.8341,  9.7754, 10.1720,\n",
      "        11.4394, 10.6274, 11.2287,  9.7734, 12.1540,  7.0804,  5.2364,  7.1220],\n",
      "       grad_fn=<MaxBackward0>),\n",
      "indices=tensor([7, 2, 1, 0, 4, 1, 4, 9, 5, 9, 0, 6, 9, 0, 1, 5, 9, 7, 3, 4, 9, 6, 6, 5,\n",
      "        4, 0, 7, 4, 0, 1, 3, 1, 3, 4, 7, 2, 7, 1, 2, 1, 1, 7, 4, 2, 3, 5, 1, 2,\n",
      "        4, 4, 6, 3, 5, 5, 6, 0, 4, 1, 9, 5, 7, 8, 9, 3]))\n"
     ]
    }
   ],
   "source": [
    "correct = 0\n",
    "total = 0\n",
    "print(\"I ok\")\n",
    "for x, y in valid_dl:\n",
    "    print(x)\n",
    "    pred = model(x)\n",
    "    _, predicted =  torch.max(pred.data, dim=1) # 返回最大值和最大值的索引\n",
    "    print(predicted)\n"
   ],
   "metadata": {
    "collapsed": false
   }
  },
  {
   "cell_type": "code",
   "execution_count": 19,
   "outputs": [
    {
     "name": "stdout",
     "output_type": "stream",
     "text": [
      "I ok\n",
      "准确率为:0.9747\n"
     ]
    }
   ],
   "source": [],
   "metadata": {
    "collapsed": false
   }
  }
 ],
 "metadata": {
  "kernelspec": {
   "display_name": "Python 3 (ipykernel)",
   "language": "python",
   "name": "python3"
  },
  "language_info": {
   "codemirror_mode": {
    "name": "ipython",
    "version": 3
   },
   "file_extension": ".py",
   "mimetype": "text/x-python",
   "name": "python",
   "nbconvert_exporter": "python",
   "pygments_lexer": "ipython3",
   "version": "3.9.16"
  }
 },
 "nbformat": 4,
 "nbformat_minor": 1
}
